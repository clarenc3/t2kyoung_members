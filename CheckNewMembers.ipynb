{
 "cells": [
  {
   "cell_type": "code",
   "execution_count": 1,
   "id": "2bf8373b-283d-4cd3-8398-e924a8c81057",
   "metadata": {},
   "outputs": [],
   "source": [
    "import pandas as pd\n",
    "import datetime\n",
    "import numpy as np\n",
    "import matplotlib.pyplot as plt\n",
    "\n",
    "df = pd.read_csv('t2kyoung_wcountry_wcontrib_everyone.csv')\n",
    "df['Member since']=pd.to_datetime(df['Member since'], format='%Y-%m-%d')"
   ]
  },
  {
   "cell_type": "code",
   "execution_count": 2,
   "id": "0d35444d-3fea-4285-a3c2-85a620eb85b7",
   "metadata": {},
   "outputs": [
    {
     "name": "stdout",
     "output_type": "stream",
     "text": [
      "Haradhan.ADHIKARY@fuw.edu.pl\n",
      "beliakova@inr.ru\n",
      "pierre.boistier@cea.fr\n",
      "pauline.collard@etu.univ-lyon1.fr\n",
      "benjamin.demarles@universite-paris-saclay.fr\n",
      "se24205c@st.omu.ac.jp\n",
      "raugj@us.es\n",
      "mharada@km.icrr.u-tokyo.ac.jp\n",
      "hayashi.koki.78e@st.kyoto-u.ac.jp\n",
      "rghuang@lbl.gov\n",
      "ishida.takehiro.t1@dc.tohoku.ac.jp\n",
      "atsushi_kawabata@keio.jp\n",
      "kobayashi.sota.t2@dc.tohoku.ac.jp\n",
      "yufei@hep.phys.s.u-tokyo.ac.jp\n",
      "robert.kralik@kcl.ac.uk\n",
      "leplumey@llr.in2p3.fr\n",
      "mashin@inr.ru\n",
      "EOBrien4@sheffield.ac.uk\n",
      "elise.paillol@etu.u-paris.fr\n",
      "plancon@llr.in2p3.fr\n",
      "lorenzo.restrepo@lpnhe.in2p3.fr\n",
      "suzuki-mihiro-hs@ynu.jp\n",
      "swada@stu.kobe-u.ac.jp\n"
     ]
    }
   ],
   "source": [
    "for x in list(df.loc[(df['Member since'].dt.year>=2024) & (df['Member since'].dt.month>=4)].Email):\n",
    "    print(x)"
   ]
  },
  {
   "cell_type": "code",
   "execution_count": null,
   "id": "fe6523cc-4d3f-4d74-a9f3-9f3d433bb80e",
   "metadata": {},
   "outputs": [],
   "source": []
  }
 ],
 "metadata": {
  "kernelspec": {
   "display_name": "Python 3 (ipykernel)",
   "language": "python",
   "name": "python3"
  },
  "language_info": {
   "codemirror_mode": {
    "name": "ipython",
    "version": 3
   },
   "file_extension": ".py",
   "mimetype": "text/x-python",
   "name": "python",
   "nbconvert_exporter": "python",
   "pygments_lexer": "ipython3",
   "version": "3.11.7"
  }
 },
 "nbformat": 4,
 "nbformat_minor": 5
}
